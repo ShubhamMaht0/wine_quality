{
 "cells": [
  {
   "cell_type": "code",
   "execution_count": 2,
   "id": "c235d95a",
   "metadata": {},
   "outputs": [
    {
     "name": "stdout",
     "output_type": "stream",
     "text": [
      "   fixed acidity  volatile acidity  citric acid  residual sugar  chlorides  \\\n",
      "0            7.4              0.70         0.00             1.9      0.076   \n",
      "1            7.8              0.88         0.00             2.6      0.098   \n",
      "2            7.8              0.76         0.04             2.3      0.092   \n",
      "3           11.2              0.28         0.56             1.9      0.075   \n",
      "4            7.4              0.70         0.00             1.9      0.076   \n",
      "\n",
      "   free sulfur dioxide  total sulfur dioxide  density    pH  sulphates  \\\n",
      "0                 11.0                  34.0   0.9978  3.51       0.56   \n",
      "1                 25.0                  67.0   0.9968  3.20       0.68   \n",
      "2                 15.0                  54.0   0.9970  3.26       0.65   \n",
      "3                 17.0                  60.0   0.9980  3.16       0.58   \n",
      "4                 11.0                  34.0   0.9978  3.51       0.56   \n",
      "\n",
      "   alcohol  quality  Id  \n",
      "0      9.4        5   0  \n",
      "1      9.8        5   1  \n",
      "2      9.8        5   2  \n",
      "3      9.8        6   3  \n",
      "4      9.4        5   4  \n"
     ]
    }
   ],
   "source": [
    "import pandas as pd\n",
    "import numpy as np\n",
    "from sklearn.linear_model import LinearRegression\n",
    "from sklearn.model_selection import train_test_split\n",
    "\n",
    "data = pd.read_csv(\"archive\\WineQT.csv\")\n",
    "print(data.head())\n",
    "\n",
    "data = data.drop(['Id'],axis=1)\n",
    "\n",
    "X = data.drop(['quality'],axis=1)\n",
    "y = data['quality']\n",
    "\n",
    "X_train,X_test,y_train,y_test = train_test_split(X,y,test_size=0.5,random_state=0)"
   ]
  },
  {
   "cell_type": "code",
   "execution_count": 4,
   "id": "6eb55908",
   "metadata": {},
   "outputs": [
    {
     "name": "stdout",
     "output_type": "stream",
     "text": [
      "      fixed acidity  volatile acidity  citric acid  residual sugar  chlorides  \\\n",
      "243            11.9              0.57         0.50            2.60      0.082   \n",
      "1012            7.8              0.53         0.01            1.60      0.077   \n",
      "35              6.6              0.52         0.04            2.20      0.069   \n",
      "986             6.0              0.49         0.00            2.30      0.068   \n",
      "597             6.7              0.28         0.28            2.40      0.012   \n",
      "...             ...               ...          ...             ...        ...   \n",
      "1033            6.6              0.58         0.02            2.00      0.062   \n",
      "763             8.7              0.42         0.45            2.40      0.072   \n",
      "835             9.8              0.39         0.43            1.65      0.068   \n",
      "559             7.1              0.52         0.03            2.60      0.076   \n",
      "684             8.8              0.33         0.41            5.90      0.073   \n",
      "\n",
      "      free sulfur dioxide  total sulfur dioxide  density    pH  sulphates  \\\n",
      "243                   6.0                  32.0  1.00060  3.12       0.78   \n",
      "1012                  3.0                  19.0  0.99500  3.16       0.46   \n",
      "35                    8.0                  15.0  0.99560  3.40       0.63   \n",
      "986                  15.0                  33.0  0.99292  3.58       0.59   \n",
      "597                  36.0                 100.0  0.99064  3.26       0.39   \n",
      "...                   ...                   ...      ...   ...        ...   \n",
      "1033                 37.0                  53.0  0.99374  3.35       0.76   \n",
      "763                  32.0                  59.0  0.99617  3.33       0.77   \n",
      "835                   5.0                  11.0  0.99478  3.19       0.46   \n",
      "559                  21.0                  92.0  0.99745  3.50       0.60   \n",
      "684                   7.0                  13.0  0.99658  3.30       0.62   \n",
      "\n",
      "      alcohol  \n",
      "243      10.7  \n",
      "1012      9.8  \n",
      "35        9.4  \n",
      "986      12.5  \n",
      "597      11.7  \n",
      "...       ...  \n",
      "1033     11.6  \n",
      "763      12.0  \n",
      "835      11.4  \n",
      "559       9.8  \n",
      "684      12.1  \n",
      "\n",
      "[571 rows x 11 columns]\n"
     ]
    }
   ],
   "source": [
    "print(X_train)\n"
   ]
  },
  {
   "cell_type": "code",
   "execution_count": 28,
   "id": "7e7c66be",
   "metadata": {},
   "outputs": [
    {
     "name": "stdout",
     "output_type": "stream",
     "text": [
      "243     6\n",
      "1012    5\n",
      "35      6\n",
      "986     6\n",
      "597     7\n",
      "       ..\n",
      "1033    7\n",
      "763     6\n",
      "835     5\n",
      "559     5\n",
      "684     7\n",
      "Name: quality, Length: 571, dtype: int64\n"
     ]
    }
   ],
   "source": [
    "print(y_train)"
   ]
  },
  {
   "cell_type": "code",
   "execution_count": 5,
   "id": "9ff94f3d",
   "metadata": {},
   "outputs": [
    {
     "data": {
      "text/html": [
       "<style>#sk-container-id-1 {color: black;}#sk-container-id-1 pre{padding: 0;}#sk-container-id-1 div.sk-toggleable {background-color: white;}#sk-container-id-1 label.sk-toggleable__label {cursor: pointer;display: block;width: 100%;margin-bottom: 0;padding: 0.3em;box-sizing: border-box;text-align: center;}#sk-container-id-1 label.sk-toggleable__label-arrow:before {content: \"▸\";float: left;margin-right: 0.25em;color: #696969;}#sk-container-id-1 label.sk-toggleable__label-arrow:hover:before {color: black;}#sk-container-id-1 div.sk-estimator:hover label.sk-toggleable__label-arrow:before {color: black;}#sk-container-id-1 div.sk-toggleable__content {max-height: 0;max-width: 0;overflow: hidden;text-align: left;background-color: #f0f8ff;}#sk-container-id-1 div.sk-toggleable__content pre {margin: 0.2em;color: black;border-radius: 0.25em;background-color: #f0f8ff;}#sk-container-id-1 input.sk-toggleable__control:checked~div.sk-toggleable__content {max-height: 200px;max-width: 100%;overflow: auto;}#sk-container-id-1 input.sk-toggleable__control:checked~label.sk-toggleable__label-arrow:before {content: \"▾\";}#sk-container-id-1 div.sk-estimator input.sk-toggleable__control:checked~label.sk-toggleable__label {background-color: #d4ebff;}#sk-container-id-1 div.sk-label input.sk-toggleable__control:checked~label.sk-toggleable__label {background-color: #d4ebff;}#sk-container-id-1 input.sk-hidden--visually {border: 0;clip: rect(1px 1px 1px 1px);clip: rect(1px, 1px, 1px, 1px);height: 1px;margin: -1px;overflow: hidden;padding: 0;position: absolute;width: 1px;}#sk-container-id-1 div.sk-estimator {font-family: monospace;background-color: #f0f8ff;border: 1px dotted black;border-radius: 0.25em;box-sizing: border-box;margin-bottom: 0.5em;}#sk-container-id-1 div.sk-estimator:hover {background-color: #d4ebff;}#sk-container-id-1 div.sk-parallel-item::after {content: \"\";width: 100%;border-bottom: 1px solid gray;flex-grow: 1;}#sk-container-id-1 div.sk-label:hover label.sk-toggleable__label {background-color: #d4ebff;}#sk-container-id-1 div.sk-serial::before {content: \"\";position: absolute;border-left: 1px solid gray;box-sizing: border-box;top: 0;bottom: 0;left: 50%;z-index: 0;}#sk-container-id-1 div.sk-serial {display: flex;flex-direction: column;align-items: center;background-color: white;padding-right: 0.2em;padding-left: 0.2em;position: relative;}#sk-container-id-1 div.sk-item {position: relative;z-index: 1;}#sk-container-id-1 div.sk-parallel {display: flex;align-items: stretch;justify-content: center;background-color: white;position: relative;}#sk-container-id-1 div.sk-item::before, #sk-container-id-1 div.sk-parallel-item::before {content: \"\";position: absolute;border-left: 1px solid gray;box-sizing: border-box;top: 0;bottom: 0;left: 50%;z-index: -1;}#sk-container-id-1 div.sk-parallel-item {display: flex;flex-direction: column;z-index: 1;position: relative;background-color: white;}#sk-container-id-1 div.sk-parallel-item:first-child::after {align-self: flex-end;width: 50%;}#sk-container-id-1 div.sk-parallel-item:last-child::after {align-self: flex-start;width: 50%;}#sk-container-id-1 div.sk-parallel-item:only-child::after {width: 0;}#sk-container-id-1 div.sk-dashed-wrapped {border: 1px dashed gray;margin: 0 0.4em 0.5em 0.4em;box-sizing: border-box;padding-bottom: 0.4em;background-color: white;}#sk-container-id-1 div.sk-label label {font-family: monospace;font-weight: bold;display: inline-block;line-height: 1.2em;}#sk-container-id-1 div.sk-label-container {text-align: center;}#sk-container-id-1 div.sk-container {/* jupyter's `normalize.less` sets `[hidden] { display: none; }` but bootstrap.min.css set `[hidden] { display: none !important; }` so we also need the `!important` here to be able to override the default hidden behavior on the sphinx rendered scikit-learn.org. See: https://github.com/scikit-learn/scikit-learn/issues/21755 */display: inline-block !important;position: relative;}#sk-container-id-1 div.sk-text-repr-fallback {display: none;}</style><div id=\"sk-container-id-1\" class=\"sk-top-container\"><div class=\"sk-text-repr-fallback\"><pre>LinearRegression()</pre><b>In a Jupyter environment, please rerun this cell to show the HTML representation or trust the notebook. <br />On GitHub, the HTML representation is unable to render, please try loading this page with nbviewer.org.</b></div><div class=\"sk-container\" hidden><div class=\"sk-item\"><div class=\"sk-estimator sk-toggleable\"><input class=\"sk-toggleable__control sk-hidden--visually\" id=\"sk-estimator-id-1\" type=\"checkbox\" checked><label for=\"sk-estimator-id-1\" class=\"sk-toggleable__label sk-toggleable__label-arrow\">LinearRegression</label><div class=\"sk-toggleable__content\"><pre>LinearRegression()</pre></div></div></div></div></div>"
      ],
      "text/plain": [
       "LinearRegression()"
      ]
     },
     "execution_count": 5,
     "metadata": {},
     "output_type": "execute_result"
    }
   ],
   "source": [
    "regressor = LinearRegression()\n",
    "regressor.fit(X_train,y_train)"
   ]
  },
  {
   "cell_type": "code",
   "execution_count": 6,
   "id": "b6e5db87",
   "metadata": {},
   "outputs": [
    {
     "data": {
      "text/plain": [
       "array([5.09016197, 5.14298757, 5.37283299, 5.33471988, 5.4095059 ,\n",
       "       5.65990047, 5.38497912, 6.09373225, 6.08590183, 6.52663723,\n",
       "       4.72307189, 5.91981981, 5.26801812, 5.31634038, 6.2812965 ,\n",
       "       5.08171127, 5.65716524, 5.34929163, 4.93228102, 5.06052469,\n",
       "       6.31821287, 5.16894679, 5.3538847 , 5.43842618, 5.0914449 ,\n",
       "       5.55317346, 5.30113752, 6.09373225, 5.89528698, 5.30515386,\n",
       "       5.3124981 , 5.62717182, 5.85292806, 6.19180028, 5.75897861,\n",
       "       5.46568508, 5.59586545, 5.8442559 , 5.15355715, 5.69414482,\n",
       "       5.4018156 , 6.23007876, 5.43579273, 6.08091942, 5.01738556,\n",
       "       5.27597201, 5.35714241, 6.2599509 , 6.55766795, 6.09889047,\n",
       "       5.32628786, 6.02055935, 5.61191845, 6.46200472, 5.38388844,\n",
       "       5.35504046, 5.54657959, 5.52042188, 4.57903546, 5.83978453,\n",
       "       5.532905  , 5.04725301, 5.67586938, 5.36411022, 5.36151884,\n",
       "       5.34367723, 6.45709819, 5.20164558, 5.48408942, 5.64216583,\n",
       "       4.97332165, 5.77326037, 5.5842391 , 6.24378624, 6.01862453,\n",
       "       6.57705818, 6.11403684, 6.39818056, 5.37246771, 6.12221272,\n",
       "       5.04725301, 5.13337517, 5.78847023, 5.42477736, 6.34779278,\n",
       "       5.45510146, 5.37070462, 5.05747259, 5.26203525, 5.75377033,\n",
       "       6.37395357, 6.56868696, 5.47925813, 5.28580528, 5.67444896,\n",
       "       5.57433033, 5.06925575, 5.32535151, 5.2464582 , 5.1680217 ,\n",
       "       4.50501742, 5.56655602, 6.53824136, 5.1396642 , 5.81775953,\n",
       "       5.52847731, 5.38087762, 6.04885046, 5.54566048, 5.2065273 ,\n",
       "       5.29387744, 5.54920027, 5.42458175, 6.46827591, 5.13936512,\n",
       "       5.58245897, 5.47733498, 6.42464325, 6.431154  , 6.45674758,\n",
       "       5.98427711, 5.27291654, 5.55317346, 6.53253273, 6.43781587,\n",
       "       5.74639224, 5.88024204, 6.57432292, 4.93078008, 5.91981981,\n",
       "       6.43289045, 6.19677962, 5.94950396, 5.14503155, 4.88269226,\n",
       "       5.67510507, 5.40070592, 6.70146433, 5.51519428, 5.65497745,\n",
       "       5.64289631, 5.56547242, 6.09355922, 6.43523903, 5.472033  ,\n",
       "       5.31078735, 6.27478063, 5.97617476, 6.42261063, 5.10334864,\n",
       "       5.20943221, 5.78847023, 6.24821199, 5.9932588 , 4.98408467,\n",
       "       4.98378799, 5.75897861, 6.34933262, 5.59913772, 5.51231744,\n",
       "       5.46596834, 6.39396324, 5.39758002, 5.32482026, 5.47317168,\n",
       "       5.95227542, 6.45441246, 6.12958942, 5.80363612, 5.40105244,\n",
       "       5.32485935, 5.16746731, 4.9719808 , 5.96070917, 6.20993245,\n",
       "       5.9715028 , 5.90021425, 5.30019957, 5.26135191, 5.75009423,\n",
       "       5.18717716, 4.72015152, 5.61408686, 5.43883578, 5.14090103,\n",
       "       5.43579273, 5.47872945, 5.96689829, 5.04380177, 6.1467872 ,\n",
       "       6.57965392, 5.73020189, 5.28879418, 5.5800293 , 6.48964971,\n",
       "       5.32485935, 5.52436659, 5.70465444, 5.26104807, 5.61755623,\n",
       "       6.0311674 , 6.14337811, 5.67394695, 6.24997266, 5.71919996,\n",
       "       6.38720524, 5.22022983, 5.45768966, 5.14497891, 5.44117922,\n",
       "       6.46093087, 5.94228715, 5.9715028 , 6.49505049, 5.48704021,\n",
       "       5.04529397, 5.84667044, 6.31821287, 5.27373087, 5.95946593,\n",
       "       5.65492573, 5.75750462, 4.87590474, 5.40360304, 5.77839713,\n",
       "       5.75616558, 6.60856026, 5.14028173, 5.02592412, 5.68062513,\n",
       "       5.96528071, 5.88847416, 5.20685184, 5.85522163, 5.74957898,\n",
       "       6.28011103, 6.76591187, 5.60111597, 5.66871322, 5.45928679,\n",
       "       6.61808601, 5.39882188, 5.7472379 , 6.21342629, 5.76442197,\n",
       "       4.86269   , 6.08820378, 5.07352311, 6.4432033 , 5.40190407,\n",
       "       5.23472234, 6.07021945, 4.96779982, 5.04515269, 6.28854817,\n",
       "       6.401781  , 5.20137386, 5.77651253, 6.05716795, 5.20794115,\n",
       "       5.62599917, 6.01288031, 5.41605512, 5.81340081, 5.28465502,\n",
       "       5.41586749, 6.14628393, 5.65250623, 5.6718991 , 5.9932588 ,\n",
       "       5.7890879 , 5.43263865, 5.1064085 , 5.31397768, 5.3986629 ,\n",
       "       5.36411022, 5.89784237, 5.46596834, 6.14161209, 5.62801599,\n",
       "       5.91849392, 5.57100646, 4.7508042 , 5.44542902, 6.54138024,\n",
       "       5.13796853, 6.06746338, 5.12953094, 5.84793091, 5.45643824,\n",
       "       6.05931524, 5.39382456, 5.34872114, 5.1889066 , 6.57304599,\n",
       "       5.23811081, 5.16346041, 6.18289258, 4.8796856 , 5.6325178 ,\n",
       "       5.42901068, 5.5510745 , 6.12590125, 5.71752561, 5.9092639 ,\n",
       "       5.49302365, 6.11531287, 5.99911609, 5.44706918, 5.43882875,\n",
       "       5.61102508, 6.35473992, 6.06232118, 5.57893995, 4.94495175,\n",
       "       4.66606158, 6.31551034, 5.56829061, 5.72036406, 5.35000304,\n",
       "       5.43835918, 5.66487092, 5.22364798, 5.32578853, 6.24274203,\n",
       "       5.97818388, 6.02827227, 5.05879355, 6.46524883, 6.42914588,\n",
       "       5.36079621, 5.09109632, 6.73907046, 5.72828293, 5.75828807,\n",
       "       5.00623323, 5.44414877, 5.87536268, 5.67510507, 5.21707259,\n",
       "       6.54371945, 5.69785366, 6.22509424, 5.53552377, 5.40533518,\n",
       "       6.24356774, 5.11331892, 6.68878793, 5.15253512, 5.31491496,\n",
       "       5.3081453 , 6.55654577, 5.15787187, 4.97655527, 6.28524583,\n",
       "       5.52357547, 6.67170639, 5.16808978, 5.65192503, 6.36347067,\n",
       "       5.15576489, 5.60053421, 5.27167883, 5.81191754, 5.04001736,\n",
       "       5.69414482, 5.28961799, 5.38082094, 5.55855953, 6.14186414,\n",
       "       5.41313699, 5.90537436, 6.00798619, 5.64332562, 5.55936985,\n",
       "       5.39784899, 5.38779952, 6.1952231 , 5.36792826, 5.52092984,\n",
       "       6.33514267, 5.38795992, 6.08936389, 5.36590503, 5.32111083,\n",
       "       5.75009423, 5.18461089, 5.01601952, 6.01135994, 6.45163188,\n",
       "       5.95986227, 5.00755015, 5.3672437 , 6.0268    , 5.23649499,\n",
       "       6.36064445, 6.18092486, 5.44218886, 5.17741892, 5.40181036,\n",
       "       5.2344705 , 4.96325232, 5.73335435, 5.2948111 , 5.79473063,\n",
       "       5.75139358, 5.02970085, 5.35875327, 6.22699547, 5.30710466,\n",
       "       5.09610444, 5.41010845, 5.05100231, 5.55206898, 6.0145479 ,\n",
       "       5.23722701, 4.81414344, 6.3918892 , 5.5842391 , 5.86518618,\n",
       "       5.37150275, 5.47390372, 6.85887485, 5.2308903 , 5.14464851,\n",
       "       6.85887485, 5.72549017, 5.66792503, 5.32544002, 5.31379797,\n",
       "       5.68803469, 6.42855738, 5.42692295, 5.94379063, 5.36115882,\n",
       "       5.54920027, 5.79473063, 5.74957898, 5.95379083, 5.98072481,\n",
       "       5.18300102, 6.76626938, 6.27623216, 6.46966232, 5.81191754,\n",
       "       5.03262103, 5.94414346, 5.6954309 , 5.79145385, 6.62564773,\n",
       "       6.21345393, 5.35240063, 6.8345739 , 4.92184162, 6.14161209,\n",
       "       6.11922732, 5.4140739 , 5.86326747, 5.45562802, 6.00030099,\n",
       "       5.20137386, 5.50330436, 6.04313355, 5.45996651, 5.69730755,\n",
       "       5.82150454, 6.00737784, 5.17055794, 6.49610722, 6.23186404,\n",
       "       5.52134769, 5.42891385, 5.85112884, 5.65337998, 5.82883785,\n",
       "       5.51854441, 6.31800191, 6.25212728, 5.9336623 , 5.23484083,\n",
       "       5.47052969, 5.41378718, 5.4203888 , 5.19230446, 5.66149944,\n",
       "       5.0440575 , 5.85876921, 5.20238569, 5.33754767, 5.07304552,\n",
       "       4.88016865, 5.49332753, 5.20313267, 5.37548013, 6.17499201,\n",
       "       6.31501896, 6.1470686 , 5.97248691, 6.10015545, 5.24410525,\n",
       "       5.12832995, 5.73927888, 5.51854441, 5.75191771, 6.16505279,\n",
       "       5.57433634, 5.5800373 , 6.09373225, 5.40188369, 5.87536268,\n",
       "       5.02943172, 5.65716524, 5.76780231, 5.84894247, 5.39144376,\n",
       "       5.34494509, 5.99248492, 5.2319766 , 5.11040766, 5.37851549,\n",
       "       6.24757505, 5.10302208, 5.14543265, 5.10398604, 5.8108917 ,\n",
       "       6.52266668, 6.03590644, 5.54781562, 6.17986878, 6.21569569,\n",
       "       6.43001928, 5.16823223, 5.11342823, 5.27756893, 6.54984576,\n",
       "       6.04844809, 5.45768966, 5.09241295, 7.72499205, 5.17442789,\n",
       "       5.90311151, 5.42016967, 5.19837676, 5.94920649, 5.15880695,\n",
       "       5.7159592 , 5.53325317, 4.90938211, 6.76171939, 5.67735793,\n",
       "       6.77532291, 5.28898886, 6.00952887, 5.26651029, 5.28724844,\n",
       "       6.22739025, 5.49103413, 5.88827934, 5.29432284, 6.9008625 ,\n",
       "       5.13387694, 5.24672206, 6.10686913, 5.40635257, 5.8344476 ,\n",
       "       5.09782982, 5.20816721, 5.94336322, 5.38907261, 5.76619192,\n",
       "       5.39144376, 5.92823309])"
      ]
     },
     "execution_count": 6,
     "metadata": {},
     "output_type": "execute_result"
    }
   ],
   "source": [
    "y_pred = regressor.predict(X_test)\n",
    "y_pred"
   ]
  },
  {
   "cell_type": "code",
   "execution_count": 31,
   "id": "b8218a12",
   "metadata": {},
   "outputs": [
    {
     "data": {
      "text/plain": [
       "946     5\n",
       "142     4\n",
       "934     6\n",
       "625     6\n",
       "124     5\n",
       "       ..\n",
       "913     5\n",
       "21      6\n",
       "810     5\n",
       "1115    5\n",
       "250     6\n",
       "Name: quality, Length: 572, dtype: int64"
      ]
     },
     "execution_count": 31,
     "metadata": {},
     "output_type": "execute_result"
    }
   ],
   "source": [
    "y_test\n"
   ]
  },
  {
   "cell_type": "code",
   "execution_count": 7,
   "id": "573951b0",
   "metadata": {},
   "outputs": [
    {
     "name": "stdout",
     "output_type": "stream",
     "text": [
      "Coefficients: \n",
      " [ 7.71292112e-02 -1.08115794e+00 -1.42301712e-01  4.68879736e-02\n",
      " -9.87390121e-01  4.10139469e-03 -3.03947944e-03 -7.14972976e+01\n",
      " -1.98750554e-01  8.42334161e-01  2.26851643e-01]\n"
     ]
    }
   ],
   "source": [
    "print('Coefficients: \\n', regressor.coef_)"
   ]
  },
  {
   "cell_type": "code",
   "execution_count": 8,
   "id": "f7e779a5",
   "metadata": {},
   "outputs": [
    {
     "name": "stdout",
     "output_type": "stream",
     "text": [
      "Mean squared error: 0.40\n"
     ]
    }
   ],
   "source": [
    "print(\"Mean squared error: %.2f\" % np.mean((regressor.predict(X_test) - y_test) ** 2))"
   ]
  },
  {
   "cell_type": "code",
   "execution_count": 9,
   "id": "0eb77397",
   "metadata": {},
   "outputs": [
    {
     "name": "stdout",
     "output_type": "stream",
     "text": [
      "Variance score: 0.38\n"
     ]
    }
   ],
   "source": [
    "print('Variance score: %.2f' % regressor.score(X_test, y_test))"
   ]
  },
  {
   "cell_type": "code",
   "execution_count": null,
   "id": "e8574d11",
   "metadata": {},
   "outputs": [],
   "source": []
  }
 ],
 "metadata": {
  "kernelspec": {
   "display_name": "Python 3 (ipykernel)",
   "language": "python",
   "name": "python3"
  },
  "language_info": {
   "codemirror_mode": {
    "name": "ipython",
    "version": 3
   },
   "file_extension": ".py",
   "mimetype": "text/x-python",
   "name": "python",
   "nbconvert_exporter": "python",
   "pygments_lexer": "ipython3",
   "version": "3.11.2"
  }
 },
 "nbformat": 4,
 "nbformat_minor": 5
}
